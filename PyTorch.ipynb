{
 "cells": [
  {
   "cell_type": "code",
   "execution_count": 1,
   "metadata": {},
   "outputs": [
    {
     "name": "stdout",
     "output_type": "stream",
     "text": [
      "Requirement already satisfied: torch in c:\\python38\\lib\\site-packages (1.8.1)\n",
      "Requirement already satisfied: numpy in c:\\python38\\lib\\site-packages (from torch) (1.19.5)\n",
      "Requirement already satisfied: typing-extensions in c:\\python38\\lib\\site-packages (from torch) (3.7.4.2)\n"
     ]
    },
    {
     "name": "stderr",
     "output_type": "stream",
     "text": [
      "WARNING: Value for scheme.headers does not match. Please report this to <https://github.com/pypa/pip/issues/9617>\n",
      "distutils: c:\\python38\\Include\\UNKNOWN\n",
      "sysconfig: c:\\python38\\Include\n",
      "WARNING: Additional context:\n",
      "user = False\n",
      "home = None\n",
      "root = None\n",
      "prefix = None\n",
      "WARNING: Value for scheme.headers does not match. Please report this to <https://github.com/pypa/pip/issues/9617>\n",
      "distutils: c:\\python38\\Include\\UNKNOWN\n",
      "sysconfig: c:\\python38\\Include\n",
      "WARNING: Additional context:\n",
      "user = False\n",
      "home = None\n",
      "root = None\n",
      "prefix = None\n"
     ]
    }
   ],
   "source": [
    "!pip install torch"
   ]
  },
  {
   "cell_type": "code",
   "execution_count": 2,
   "metadata": {
    "scrolled": true
   },
   "outputs": [
    {
     "name": "stdout",
     "output_type": "stream",
     "text": [
      "Requirement already satisfied: torchvision in c:\\python38\\lib\\site-packages (0.9.1)\n",
      "Requirement already satisfied: numpy in c:\\python38\\lib\\site-packages (from torchvision) (1.19.5)\n",
      "Requirement already satisfied: pillow>=4.1.1 in c:\\python38\\lib\\site-packages (from torchvision) (7.2.0)\n",
      "Requirement already satisfied: torch==1.8.1 in c:\\python38\\lib\\site-packages (from torchvision) (1.8.1)\n",
      "Requirement already satisfied: typing-extensions in c:\\python38\\lib\\site-packages (from torch==1.8.1->torchvision) (3.7.4.2)\n"
     ]
    },
    {
     "name": "stderr",
     "output_type": "stream",
     "text": [
      "WARNING: Value for scheme.headers does not match. Please report this to <https://github.com/pypa/pip/issues/9617>\n",
      "distutils: c:\\python38\\Include\\UNKNOWN\n",
      "sysconfig: c:\\python38\\Include\n",
      "WARNING: Additional context:\n",
      "user = False\n",
      "home = None\n",
      "root = None\n",
      "prefix = None\n",
      "WARNING: Value for scheme.headers does not match. Please report this to <https://github.com/pypa/pip/issues/9617>\n",
      "distutils: c:\\python38\\Include\\UNKNOWN\n",
      "sysconfig: c:\\python38\\Include\n",
      "WARNING: Additional context:\n",
      "user = False\n",
      "home = None\n",
      "root = None\n",
      "prefix = None\n"
     ]
    }
   ],
   "source": [
    "!pip install torchvision"
   ]
  },
  {
   "cell_type": "code",
   "execution_count": 3,
   "metadata": {},
   "outputs": [],
   "source": [
    "import torch.nn as nn\n",
    "import torch.nn.functional as F"
   ]
  },
  {
   "cell_type": "code",
   "execution_count": 4,
   "metadata": {},
   "outputs": [],
   "source": [
    "class ConvNet(nn.Module):\n",
    "    def __init__(self, numclasses):\n",
    "        \"\"\"\n",
    "        args\n",
    "        \"\"\"\n",
    "        super(ConvNet, self).__init__()\n",
    "        self.layer1 = nn.Sequential(\n",
    "            nn.Conv2d(1, 64, 3, 1, 1),\n",
    "            nn.ReLU(),\n",
    "            nn.MaxPool2d(kernel_size=2)\n",
    "        )\n",
    "        self.layer2 = nn.Sequential(\n",
    "            nn.Conv2d(64, 256, 3, 1, 1),\n",
    "            nn.ReLU(),\n",
    "            nn.MaxPool2d(kernel_size=2)\n",
    "        )\n",
    "        self.layer3 = nn.Sequential(\n",
    "            nn.Conv2d(256, 512, 3, 1, 1),\n",
    "            nn.ReLU(),\n",
    "            nn.MaxPool2d(kernel_size=2)\n",
    "        )\n",
    "        self.fc = nn.Sequential(\n",
    "            nn.Linear(512*3*3, 512),\n",
    "            nn.Linear(512, numclasses)\n",
    "        )\n",
    "\n",
    "    def forward(self, net):\n",
    "        net = self.layer1(net)\n",
    "        net = self.layer2(net)\n",
    "        net = self.layer3(net)\n",
    "        net = net.view(net.size(0), -1)\n",
    "        net = self.fc(net)\n",
    "        return net"
   ]
  },
  {
   "cell_type": "code",
   "execution_count": 5,
   "metadata": {},
   "outputs": [],
   "source": [
    "model = ConvNet(100)"
   ]
  },
  {
   "cell_type": "code",
   "execution_count": 6,
   "metadata": {},
   "outputs": [],
   "source": [
    "import torch"
   ]
  },
  {
   "cell_type": "code",
   "execution_count": 7,
   "metadata": {},
   "outputs": [],
   "source": [
    "criterion = nn.CrossEntropyLoss()\n",
    "optimizer = torch.optim.Adam(model.parameters(), lr=.001)"
   ]
  },
  {
   "cell_type": "code",
   "execution_count": 8,
   "metadata": {},
   "outputs": [],
   "source": [
    "import numpy as np"
   ]
  },
  {
   "cell_type": "code",
   "execution_count": 166,
   "metadata": {},
   "outputs": [],
   "source": [
    "y_train = np.load('C:/data/train/t_target.npy')"
   ]
  },
  {
   "cell_type": "code",
   "execution_count": 167,
   "metadata": {},
   "outputs": [
    {
     "name": "stdout",
     "output_type": "stream",
     "text": [
      "400000\n"
     ]
    }
   ],
   "source": [
    "print(len(y_train))"
   ]
  },
  {
   "cell_type": "code",
   "execution_count": 168,
   "metadata": {},
   "outputs": [
    {
     "name": "stdout",
     "output_type": "stream",
     "text": [
      "65.0\n"
     ]
    }
   ],
   "source": [
    "print(y_train[0])"
   ]
  },
  {
   "cell_type": "code",
   "execution_count": 169,
   "metadata": {},
   "outputs": [],
   "source": [
    "x_train= np.load('C:/data/train/t_data.npy')"
   ]
  },
  {
   "cell_type": "code",
   "execution_count": 170,
   "metadata": {},
   "outputs": [],
   "source": [
    "x_test= np.load('C:/data/test/test_data.npy')"
   ]
  },
  {
   "cell_type": "code",
   "execution_count": 171,
   "metadata": {},
   "outputs": [],
   "source": [
    "y_test= np.load('C:/data/test/test_target.npy')"
   ]
  },
  {
   "cell_type": "code",
   "execution_count": 172,
   "metadata": {},
   "outputs": [],
   "source": [
    "x_train=x_train[0:50000]"
   ]
  },
  {
   "cell_type": "code",
   "execution_count": 173,
   "metadata": {},
   "outputs": [],
   "source": [
    "x_test=x_test[0:50000]\n",
    "y_test=y_test[0:50000]\n",
    "y_train=y_train[0:50000]"
   ]
  },
  {
   "cell_type": "code",
   "execution_count": 174,
   "metadata": {},
   "outputs": [
    {
     "name": "stdout",
     "output_type": "stream",
     "text": [
      "28\n",
      "[[0.         0.         0.         0.         0.         0.\n",
      "  0.         0.         0.         0.         0.         0.\n",
      "  0.         0.         0.         0.         0.         0.\n",
      "  0.         0.         0.         0.         0.         0.\n",
      "  0.         0.         0.         0.        ]\n",
      " [0.         0.         0.         0.         0.         0.\n",
      "  0.         0.         0.         0.         0.         0.\n",
      "  0.         0.11764706 0.2901961  0.3647059  0.39607844 0.23529412\n",
      "  0.03137255 0.         0.         0.         0.         0.\n",
      "  0.         0.         0.         0.        ]\n",
      " [0.         0.         0.         0.         0.         0.\n",
      "  0.         0.         0.         0.         0.03529412 0.35686275\n",
      "  0.7411765  0.99607843 1.         1.         1.         1.\n",
      "  0.9607843  0.17254902 0.         0.         0.         0.\n",
      "  0.         0.         0.         0.        ]\n",
      " [0.         0.         0.         0.         0.         0.\n",
      "  0.         0.         0.00784314 0.50980395 0.9372549  1.\n",
      "  0.8392157  0.4509804  0.1882353  0.11372549 0.08627451 0.5411765\n",
      "  0.99607843 0.76862746 0.10588235 0.         0.         0.\n",
      "  0.         0.         0.         0.        ]\n",
      " [0.         0.         0.         0.         0.         0.\n",
      "  0.         0.01176471 0.6313726  1.         0.63529414 0.22745098\n",
      "  0.         0.         0.         0.         0.         0.\n",
      "  0.30980393 0.9372549  0.9137255  0.16078432 0.         0.\n",
      "  0.         0.         0.         0.        ]\n",
      " [0.         0.         0.         0.         0.         0.\n",
      "  0.         0.5803922  0.99607843 0.44705883 0.         0.\n",
      "  0.         0.         0.         0.         0.         0.\n",
      "  0.         0.13333334 0.90588236 0.7411765  0.         0.\n",
      "  0.         0.         0.         0.        ]\n",
      " [0.         0.         0.         0.         0.         0.\n",
      "  0.28235295 0.99607843 0.50980395 0.         0.         0.\n",
      "  0.         0.         0.         0.         0.         0.\n",
      "  0.         0.         0.38039216 1.         0.32156864 0.\n",
      "  0.         0.         0.         0.        ]\n",
      " [0.         0.         0.         0.         0.         0.\n",
      "  0.7764706  0.827451   0.01960784 0.         0.         0.\n",
      "  0.         0.         0.         0.         0.         0.\n",
      "  0.         0.         0.00784314 0.7921569  0.85882354 0.00392157\n",
      "  0.         0.         0.         0.        ]\n",
      " [0.         0.         0.         0.         0.         0.16862746\n",
      "  1.         0.41568628 0.         0.         0.         0.\n",
      "  0.         0.         0.         0.         0.         0.\n",
      "  0.         0.         0.         0.3529412  1.         0.16078432\n",
      "  0.         0.         0.         0.        ]\n",
      " [0.         0.         0.         0.         0.         0.5568628\n",
      "  0.9647059  0.06666667 0.         0.         0.         0.\n",
      "  0.         0.         0.         0.         0.         0.\n",
      "  0.         0.         0.         0.10980392 1.         0.4\n",
      "  0.         0.         0.         0.        ]\n",
      " [0.         0.         0.         0.         0.02352941 0.91764706\n",
      "  0.6392157  0.         0.         0.         0.         0.\n",
      "  0.         0.         0.         0.         0.         0.\n",
      "  0.         0.         0.         0.         0.88235295 0.6156863\n",
      "  0.         0.         0.         0.        ]\n",
      " [0.         0.         0.         0.         0.32941177 1.\n",
      "  0.24705882 0.         0.         0.         0.         0.\n",
      "  0.         0.         0.         0.         0.         0.\n",
      "  0.         0.         0.         0.         0.75686276 0.7254902\n",
      "  0.         0.         0.         0.        ]\n",
      " [0.         0.         0.         0.         0.54509807 0.9372549\n",
      "  0.00392157 0.         0.         0.         0.         0.\n",
      "  0.         0.         0.         0.         0.         0.\n",
      "  0.         0.         0.         0.         0.6862745  0.7921569\n",
      "  0.         0.         0.         0.        ]\n",
      " [0.         0.         0.         0.         0.5921569  0.88235295\n",
      "  0.         0.         0.         0.         0.         0.\n",
      "  0.         0.         0.         0.         0.         0.\n",
      "  0.         0.         0.         0.         0.7490196  0.7294118\n",
      "  0.         0.         0.         0.        ]\n",
      " [0.         0.         0.         0.         0.63529414 0.8392157\n",
      "  0.         0.         0.         0.         0.         0.\n",
      "  0.         0.         0.         0.         0.         0.\n",
      "  0.         0.         0.         0.         0.81960785 0.65882355\n",
      "  0.         0.         0.         0.        ]\n",
      " [0.         0.         0.         0.         0.6784314  0.79607844\n",
      "  0.         0.         0.         0.         0.         0.\n",
      "  0.         0.         0.         0.         0.         0.\n",
      "  0.         0.         0.         0.         0.89411765 0.58431375\n",
      "  0.         0.         0.         0.        ]\n",
      " [0.         0.         0.         0.         0.6901961  0.79607844\n",
      "  0.         0.         0.         0.         0.         0.\n",
      "  0.         0.         0.         0.         0.         0.\n",
      "  0.         0.         0.         0.         0.9647059  0.5137255\n",
      "  0.         0.         0.         0.        ]\n",
      " [0.         0.         0.         0.         0.5137255  0.972549\n",
      "  0.02745098 0.         0.         0.         0.         0.\n",
      "  0.         0.         0.         0.         0.         0.\n",
      "  0.         0.         0.         0.03921569 1.         0.43529412\n",
      "  0.         0.         0.         0.        ]\n",
      " [0.         0.         0.         0.         0.29803923 1.\n",
      "  0.20784314 0.         0.         0.         0.         0.\n",
      "  0.         0.         0.         0.         0.         0.\n",
      "  0.         0.         0.         0.14117648 1.         0.35686275\n",
      "  0.         0.         0.         0.        ]\n",
      " [0.         0.         0.         0.         0.08235294 0.99607843\n",
      "  0.44313726 0.         0.         0.         0.         0.\n",
      "  0.         0.         0.         0.         0.         0.\n",
      "  0.         0.         0.         0.46666667 0.99215686 0.10980392\n",
      "  0.         0.         0.         0.        ]\n",
      " [0.         0.         0.         0.         0.         0.7647059\n",
      "  0.8509804  0.01176471 0.         0.         0.         0.\n",
      "  0.         0.         0.         0.         0.         0.\n",
      "  0.         0.         0.         0.8352941  0.7372549  0.\n",
      "  0.         0.         0.         0.        ]\n",
      " [0.         0.         0.         0.         0.         0.3019608\n",
      "  1.         0.44313726 0.         0.         0.         0.\n",
      "  0.         0.         0.         0.         0.         0.\n",
      "  0.         0.         0.40392157 1.         0.36078432 0.\n",
      "  0.         0.         0.         0.        ]\n",
      " [0.         0.         0.         0.         0.         0.00392157\n",
      "  0.64705884 0.9882353  0.3764706  0.         0.         0.\n",
      "  0.         0.         0.         0.         0.         0.\n",
      "  0.         0.2627451  0.98039216 0.6784314  0.00784314 0.\n",
      "  0.         0.         0.         0.        ]\n",
      " [0.         0.         0.         0.         0.         0.\n",
      "  0.02745098 0.7019608  1.         0.6313726  0.11764706 0.\n",
      "  0.         0.         0.         0.         0.         0.03137255\n",
      "  0.43137255 0.9411765  0.8        0.03921569 0.         0.\n",
      "  0.         0.         0.         0.        ]\n",
      " [0.         0.         0.         0.         0.         0.\n",
      "  0.         0.00784314 0.48235294 0.95686275 0.972549   0.5882353\n",
      "  0.24313726 0.06666667 0.1254902  0.18431373 0.43137255 0.8980392\n",
      "  1.         0.7137255  0.09411765 0.         0.         0.\n",
      "  0.         0.         0.         0.        ]\n",
      " [0.         0.         0.         0.         0.         0.\n",
      "  0.         0.         0.         0.09019608 0.5686275  0.9529412\n",
      "  1.         1.         1.         1.         1.         0.7137255\n",
      "  0.21568628 0.         0.         0.         0.         0.\n",
      "  0.         0.         0.         0.        ]\n",
      " [0.         0.         0.         0.         0.         0.\n",
      "  0.         0.         0.         0.         0.         0.03529412\n",
      "  0.29411766 0.40392157 0.34901962 0.2901961  0.16470589 0.\n",
      "  0.         0.         0.         0.         0.         0.\n",
      "  0.         0.         0.         0.        ]\n",
      " [0.         0.         0.         0.         0.         0.\n",
      "  0.         0.         0.         0.         0.         0.\n",
      "  0.         0.         0.         0.         0.         0.\n",
      "  0.         0.         0.         0.         0.         0.\n",
      "  0.         0.         0.         0.        ]]\n"
     ]
    }
   ],
   "source": [
    "x_train2=[]\n",
    "for i in x_train:\n",
    "    i = i.astype('float32') / 255.\n",
    "    i2=i.reshape(-1,28)\n",
    "    x_train2.append(i2)\n",
    "print(len(x_train2[0]))\n",
    "print(x_train2[0])\n"
   ]
  },
  {
   "cell_type": "code",
   "execution_count": 175,
   "metadata": {},
   "outputs": [],
   "source": [
    "y_train2=[]\n",
    "for i in y_train:\n",
    "    y_train2.append(i)\n"
   ]
  },
  {
   "cell_type": "code",
   "execution_count": 176,
   "metadata": {},
   "outputs": [
    {
     "name": "stdout",
     "output_type": "stream",
     "text": [
      "28\n"
     ]
    }
   ],
   "source": [
    "x_test2=[]\n",
    "for i in x_test:\n",
    "    i = i.astype('float32') / 255.\n",
    "    i2=i.reshape(-1,28)\n",
    "    x_test2.append(i2)\n",
    "print(len(x_test2[0]))"
   ]
  },
  {
   "cell_type": "code",
   "execution_count": 177,
   "metadata": {},
   "outputs": [],
   "source": [
    "x_train3=[]\n",
    "for i in x_train2:\n",
    "    i = np.expand_dims(i, axis=0)\n",
    "    x_train3.append(i)\n"
   ]
  },
  {
   "cell_type": "code",
   "execution_count": 178,
   "metadata": {},
   "outputs": [
    {
     "name": "stdout",
     "output_type": "stream",
     "text": [
      "(1, 28, 28)\n"
     ]
    }
   ],
   "source": [
    "print(x_test3[0].shape)"
   ]
  },
  {
   "cell_type": "code",
   "execution_count": 179,
   "metadata": {},
   "outputs": [],
   "source": [
    "x_test3=[]\n",
    "for i in x_test2:\n",
    "    i = np.expand_dims(i, axis=0)\n",
    "    x_test3.append(i)"
   ]
  },
  {
   "cell_type": "code",
   "execution_count": 180,
   "metadata": {},
   "outputs": [
    {
     "name": "stdout",
     "output_type": "stream",
     "text": [
      "[93. 44.  2. ... 95. 62. 31.]\n"
     ]
    }
   ],
   "source": [
    "print(y_test)"
   ]
  },
  {
   "cell_type": "code",
   "execution_count": 181,
   "metadata": {},
   "outputs": [],
   "source": [
    " y_test = y_test.astype(int)"
   ]
  },
  {
   "cell_type": "code",
   "execution_count": 182,
   "metadata": {},
   "outputs": [
    {
     "name": "stdout",
     "output_type": "stream",
     "text": [
      "50000\n"
     ]
    }
   ],
   "source": [
    "print(len(y_train))"
   ]
  },
  {
   "cell_type": "code",
   "execution_count": 183,
   "metadata": {},
   "outputs": [],
   "source": [
    "y_train2 = []\n",
    "y_test2 = []\n",
    "for i in range(0,50000):\n",
    "    y_train2.append( torch.tensor(y_train[i]))\n",
    "    y_test2.append(torch.tensor(y_test[i]))\n",
    "for i in range(0, 50000):\n",
    "    y_train2[i] = y_train2[i].type(torch.LongTensor)\n",
    "    y_test2[i] = y_test2[i].type(torch.LongTensor)"
   ]
  },
  {
   "cell_type": "code",
   "execution_count": 184,
   "metadata": {},
   "outputs": [],
   "source": [
    " y_train = y_train.astype(int)"
   ]
  },
  {
   "cell_type": "code",
   "execution_count": 185,
   "metadata": {},
   "outputs": [
    {
     "name": "stdout",
     "output_type": "stream",
     "text": [
      "[65 50 93 ... 52 54 57]\n"
     ]
    }
   ],
   "source": [
    "print(y_train)"
   ]
  },
  {
   "cell_type": "code",
   "execution_count": 186,
   "metadata": {},
   "outputs": [
    {
     "name": "stdout",
     "output_type": "stream",
     "text": [
      "50000\n",
      "50000\n",
      "50000\n",
      "50000\n"
     ]
    }
   ],
   "source": [
    "print(len(x_train3))\n",
    "print(len(y_train))\n",
    "print(len(y_test))\n",
    "print(len(x_test3))"
   ]
  },
  {
   "cell_type": "code",
   "execution_count": 192,
   "metadata": {},
   "outputs": [],
   "source": [
    "batch_size=128\n",
    "train_dataset=[]\n",
    "test_dataset=[]\n",
    "for i in range(30000, 40000):\n",
    "    train_dataset.append((x_train3[i], y_train2[i]))\n",
    "    test_dataset.append((x_test3[i], y_test2[i]))"
   ]
  },
  {
   "cell_type": "code",
   "execution_count": 193,
   "metadata": {},
   "outputs": [],
   "source": [
    "from torch.utils.data import DataLoader"
   ]
  },
  {
   "cell_type": "code",
   "execution_count": 194,
   "metadata": {},
   "outputs": [],
   "source": [
    "train_loader = DataLoader(dataset=train_dataset, batch_size=batch_size, shuffle=True)\n",
    "test_loader = DataLoader(dataset=test_dataset, batch_size=batch_size, shuffle=False)"
   ]
  },
  {
   "cell_type": "code",
   "execution_count": 195,
   "metadata": {},
   "outputs": [],
   "source": [
    "import time"
   ]
  },
  {
   "cell_type": "code",
   "execution_count": 199,
   "metadata": {
    "scrolled": true
   },
   "outputs": [
    {
     "name": "stdout",
     "output_type": "stream",
     "text": [
      "tensor(59)\n",
      "Epoch [1/40], Step [20/79], Loss: 0.0000, Accuracy: 100.00%\n",
      "Epoch [1/40], Step [40/79], Loss: 0.0001, Accuracy: 100.00%\n",
      "Epoch [1/40], Step [60/79], Loss: 0.0001, Accuracy: 100.00%\n",
      "Time is 45.098528146743774\n",
      "tensor(9)\n",
      "Epoch [2/40], Step [20/79], Loss: 0.0000, Accuracy: 100.00%\n",
      "Epoch [2/40], Step [40/79], Loss: 0.0000, Accuracy: 100.00%\n",
      "Epoch [2/40], Step [60/79], Loss: 0.0001, Accuracy: 100.00%\n",
      "Time is 89.56053423881531\n",
      "tensor(45)\n",
      "Epoch [3/40], Step [20/79], Loss: 0.0000, Accuracy: 100.00%\n",
      "Epoch [3/40], Step [40/79], Loss: 0.0000, Accuracy: 100.00%\n",
      "Epoch [3/40], Step [60/79], Loss: 0.0000, Accuracy: 100.00%\n",
      "Time is 134.25379729270935\n",
      "tensor(19)\n",
      "Epoch [4/40], Step [20/79], Loss: 0.0000, Accuracy: 100.00%\n",
      "Epoch [4/40], Step [40/79], Loss: 0.0000, Accuracy: 100.00%\n",
      "Epoch [4/40], Step [60/79], Loss: 0.0001, Accuracy: 100.00%\n",
      "Time is 178.8821370601654\n",
      "tensor(81)\n",
      "Epoch [5/40], Step [20/79], Loss: 0.0000, Accuracy: 100.00%\n",
      "Epoch [5/40], Step [40/79], Loss: 0.0000, Accuracy: 100.00%\n",
      "Epoch [5/40], Step [60/79], Loss: 0.0000, Accuracy: 100.00%\n",
      "Time is 223.07671332359314\n",
      "tensor(32)\n",
      "Epoch [6/40], Step [20/79], Loss: 0.0000, Accuracy: 100.00%\n",
      "Epoch [6/40], Step [40/79], Loss: 0.0000, Accuracy: 100.00%\n",
      "Epoch [6/40], Step [60/79], Loss: 0.0001, Accuracy: 100.00%\n",
      "Time is 269.81810092926025\n",
      "tensor(38)\n",
      "Epoch [7/40], Step [20/79], Loss: 0.0001, Accuracy: 100.00%\n",
      "Epoch [7/40], Step [40/79], Loss: 0.0000, Accuracy: 100.00%\n",
      "Epoch [7/40], Step [60/79], Loss: 0.0000, Accuracy: 100.00%\n",
      "Time is 305.61602115631104\n",
      "tensor(13)\n",
      "Epoch [8/40], Step [20/79], Loss: 0.0000, Accuracy: 100.00%\n",
      "Epoch [8/40], Step [40/79], Loss: 0.0000, Accuracy: 100.00%\n",
      "Epoch [8/40], Step [60/79], Loss: 0.0000, Accuracy: 100.00%\n",
      "Time is 341.37419867515564\n",
      "tensor(33)\n",
      "Epoch [9/40], Step [20/79], Loss: 0.0000, Accuracy: 100.00%\n",
      "Epoch [9/40], Step [40/79], Loss: 0.0001, Accuracy: 100.00%\n",
      "Epoch [9/40], Step [60/79], Loss: 0.0000, Accuracy: 100.00%\n",
      "Time is 377.96475410461426\n",
      "tensor(22)\n",
      "Epoch [10/40], Step [20/79], Loss: 0.0000, Accuracy: 100.00%\n",
      "Epoch [10/40], Step [40/79], Loss: 0.0000, Accuracy: 100.00%\n",
      "Epoch [10/40], Step [60/79], Loss: 0.0000, Accuracy: 100.00%\n",
      "Time is 415.2870202064514\n",
      "tensor(36)\n",
      "Epoch [11/40], Step [20/79], Loss: 0.0000, Accuracy: 100.00%\n",
      "Epoch [11/40], Step [40/79], Loss: 0.0000, Accuracy: 100.00%\n",
      "Epoch [11/40], Step [60/79], Loss: 0.0000, Accuracy: 100.00%\n",
      "Time is 452.37944507598877\n",
      "tensor(40)\n",
      "Epoch [12/40], Step [20/79], Loss: 0.0000, Accuracy: 100.00%\n",
      "Epoch [12/40], Step [40/79], Loss: 0.0000, Accuracy: 100.00%\n",
      "Epoch [12/40], Step [60/79], Loss: 0.0000, Accuracy: 100.00%\n",
      "Time is 489.2534148693085\n",
      "tensor(89)\n",
      "Epoch [13/40], Step [20/79], Loss: 0.0000, Accuracy: 100.00%\n",
      "Epoch [13/40], Step [40/79], Loss: 0.0000, Accuracy: 100.00%\n",
      "Epoch [13/40], Step [60/79], Loss: 0.0000, Accuracy: 100.00%\n",
      "Time is 526.4391331672668\n",
      "tensor(10)\n",
      "Epoch [14/40], Step [20/79], Loss: 0.0000, Accuracy: 100.00%\n",
      "Epoch [14/40], Step [40/79], Loss: 0.0000, Accuracy: 100.00%\n",
      "Epoch [14/40], Step [60/79], Loss: 0.0000, Accuracy: 100.00%\n",
      "Time is 563.8049991130829\n",
      "tensor(16)\n",
      "Epoch [15/40], Step [20/79], Loss: 0.0000, Accuracy: 100.00%\n",
      "Epoch [15/40], Step [40/79], Loss: 0.0000, Accuracy: 100.00%\n",
      "Epoch [15/40], Step [60/79], Loss: 0.0000, Accuracy: 100.00%\n",
      "Time is 601.7471976280212\n",
      "tensor(57)\n",
      "Epoch [16/40], Step [20/79], Loss: 0.0000, Accuracy: 100.00%\n",
      "Epoch [16/40], Step [40/79], Loss: 0.0000, Accuracy: 100.00%\n",
      "Epoch [16/40], Step [60/79], Loss: 0.0000, Accuracy: 100.00%\n",
      "Time is 640.2364730834961\n",
      "tensor(38)\n",
      "Epoch [17/40], Step [20/79], Loss: 0.0000, Accuracy: 100.00%\n",
      "Epoch [17/40], Step [40/79], Loss: 0.0000, Accuracy: 100.00%\n",
      "Epoch [17/40], Step [60/79], Loss: 0.0000, Accuracy: 100.00%\n",
      "Time is 678.146427154541\n",
      "tensor(4)\n",
      "Epoch [18/40], Step [20/79], Loss: 0.0000, Accuracy: 100.00%\n",
      "Epoch [18/40], Step [40/79], Loss: 0.0000, Accuracy: 100.00%\n",
      "Epoch [18/40], Step [60/79], Loss: 0.0000, Accuracy: 100.00%\n",
      "Time is 716.0159289836884\n",
      "tensor(21)\n",
      "Epoch [19/40], Step [20/79], Loss: 0.0000, Accuracy: 100.00%\n",
      "Epoch [19/40], Step [40/79], Loss: 0.0000, Accuracy: 100.00%\n",
      "Epoch [19/40], Step [60/79], Loss: 0.0000, Accuracy: 100.00%\n",
      "Time is 754.0588910579681\n",
      "tensor(2)\n",
      "Epoch [20/40], Step [20/79], Loss: 0.0000, Accuracy: 100.00%\n",
      "Epoch [20/40], Step [40/79], Loss: 0.0000, Accuracy: 100.00%\n",
      "Epoch [20/40], Step [60/79], Loss: 0.0000, Accuracy: 100.00%\n",
      "Time is 792.1550872325897\n",
      "tensor(81)\n",
      "Epoch [21/40], Step [20/79], Loss: 0.0000, Accuracy: 100.00%\n",
      "Epoch [21/40], Step [40/79], Loss: 0.0000, Accuracy: 100.00%\n",
      "Epoch [21/40], Step [60/79], Loss: 0.0000, Accuracy: 100.00%\n",
      "Time is 829.9035601615906\n",
      "tensor(36)\n",
      "Epoch [22/40], Step [20/79], Loss: 0.0000, Accuracy: 100.00%\n",
      "Epoch [22/40], Step [40/79], Loss: 0.0000, Accuracy: 100.00%\n",
      "Epoch [22/40], Step [60/79], Loss: 0.0000, Accuracy: 100.00%\n",
      "Time is 867.8132071495056\n",
      "tensor(4)\n",
      "Epoch [23/40], Step [20/79], Loss: 0.0000, Accuracy: 100.00%\n",
      "Epoch [23/40], Step [40/79], Loss: 0.0000, Accuracy: 100.00%\n",
      "Epoch [23/40], Step [60/79], Loss: 0.0000, Accuracy: 100.00%\n",
      "Time is 905.5472605228424\n",
      "tensor(63)\n",
      "Epoch [24/40], Step [20/79], Loss: 0.0000, Accuracy: 100.00%\n",
      "Epoch [24/40], Step [40/79], Loss: 0.0000, Accuracy: 100.00%\n",
      "Epoch [24/40], Step [60/79], Loss: 0.0000, Accuracy: 100.00%\n",
      "Time is 943.275778055191\n",
      "tensor(1)\n",
      "Epoch [25/40], Step [20/79], Loss: 0.0000, Accuracy: 100.00%\n",
      "Epoch [25/40], Step [40/79], Loss: 0.0000, Accuracy: 100.00%\n",
      "Epoch [25/40], Step [60/79], Loss: 0.0000, Accuracy: 100.00%\n",
      "Time is 982.396954536438\n",
      "tensor(94)\n",
      "Epoch [26/40], Step [20/79], Loss: 0.0000, Accuracy: 100.00%\n",
      "Epoch [26/40], Step [40/79], Loss: 0.0000, Accuracy: 100.00%\n",
      "Epoch [26/40], Step [60/79], Loss: 0.0000, Accuracy: 100.00%\n",
      "Time is 1019.7191092967987\n",
      "tensor(57)\n",
      "Epoch [27/40], Step [20/79], Loss: 0.0000, Accuracy: 100.00%\n",
      "Epoch [27/40], Step [40/79], Loss: 0.0000, Accuracy: 100.00%\n",
      "Epoch [27/40], Step [60/79], Loss: 0.0000, Accuracy: 100.00%\n",
      "Time is 1056.9846396446228\n",
      "tensor(18)\n",
      "Epoch [28/40], Step [20/79], Loss: 0.0000, Accuracy: 100.00%\n",
      "Epoch [28/40], Step [40/79], Loss: 0.0000, Accuracy: 100.00%\n",
      "Epoch [28/40], Step [60/79], Loss: 0.0000, Accuracy: 100.00%\n",
      "Time is 1092.8459680080414\n",
      "tensor(61)\n",
      "Epoch [29/40], Step [20/79], Loss: 0.0000, Accuracy: 100.00%\n",
      "Epoch [29/40], Step [40/79], Loss: 0.0000, Accuracy: 100.00%\n",
      "Epoch [29/40], Step [60/79], Loss: 0.0000, Accuracy: 100.00%\n",
      "Time is 1128.837674856186\n",
      "tensor(89)\n",
      "Epoch [30/40], Step [20/79], Loss: 0.0000, Accuracy: 100.00%\n",
      "Epoch [30/40], Step [40/79], Loss: 0.0000, Accuracy: 100.00%\n",
      "Epoch [30/40], Step [60/79], Loss: 0.0000, Accuracy: 100.00%\n",
      "Time is 1164.5805079936981\n",
      "tensor(81)\n",
      "Epoch [31/40], Step [20/79], Loss: 0.0000, Accuracy: 100.00%\n",
      "Epoch [31/40], Step [40/79], Loss: 0.0000, Accuracy: 100.00%\n",
      "Epoch [31/40], Step [60/79], Loss: 0.0000, Accuracy: 100.00%\n",
      "Time is 1201.5736961364746\n",
      "tensor(5)\n",
      "Epoch [32/40], Step [20/79], Loss: 0.0000, Accuracy: 100.00%\n",
      "Epoch [32/40], Step [40/79], Loss: 0.0000, Accuracy: 100.00%\n",
      "Epoch [32/40], Step [60/79], Loss: 0.0000, Accuracy: 100.00%\n",
      "Time is 1238.3720304965973\n",
      "tensor(52)\n",
      "Epoch [33/40], Step [20/79], Loss: 0.0000, Accuracy: 100.00%\n",
      "Epoch [33/40], Step [40/79], Loss: 0.0000, Accuracy: 100.00%\n",
      "Epoch [33/40], Step [60/79], Loss: 0.0000, Accuracy: 100.00%\n",
      "Time is 1275.5342841148376\n",
      "tensor(14)\n",
      "Epoch [34/40], Step [20/79], Loss: 0.0000, Accuracy: 100.00%\n",
      "Epoch [34/40], Step [40/79], Loss: 0.0000, Accuracy: 100.00%\n",
      "Epoch [34/40], Step [60/79], Loss: 0.0000, Accuracy: 100.00%\n",
      "Time is 1313.577299118042\n",
      "tensor(10)\n",
      "Epoch [35/40], Step [20/79], Loss: 0.0000, Accuracy: 100.00%\n",
      "Epoch [35/40], Step [40/79], Loss: 0.0000, Accuracy: 100.00%\n",
      "Epoch [35/40], Step [60/79], Loss: 0.0000, Accuracy: 100.00%\n",
      "Time is 1351.1791145801544\n",
      "tensor(85)\n",
      "Epoch [36/40], Step [20/79], Loss: 0.0000, Accuracy: 100.00%\n",
      "Epoch [36/40], Step [40/79], Loss: 0.0000, Accuracy: 100.00%\n",
      "Epoch [36/40], Step [60/79], Loss: 0.0000, Accuracy: 100.00%\n",
      "Time is 1388.179686307907\n",
      "tensor(29)\n",
      "Epoch [37/40], Step [20/79], Loss: 0.0000, Accuracy: 100.00%\n",
      "Epoch [37/40], Step [40/79], Loss: 0.0000, Accuracy: 100.00%\n",
      "Epoch [37/40], Step [60/79], Loss: 0.0000, Accuracy: 100.00%\n",
      "Time is 1426.0840406417847\n",
      "tensor(91)\n",
      "Epoch [38/40], Step [20/79], Loss: 0.0000, Accuracy: 100.00%\n",
      "Epoch [38/40], Step [40/79], Loss: 0.0000, Accuracy: 100.00%\n",
      "Epoch [38/40], Step [60/79], Loss: 0.0000, Accuracy: 100.00%\n",
      "Time is 1464.4923076629639\n",
      "tensor(58)\n",
      "Epoch [39/40], Step [20/79], Loss: 0.0000, Accuracy: 100.00%\n",
      "Epoch [39/40], Step [40/79], Loss: 0.0000, Accuracy: 100.00%\n",
      "Epoch [39/40], Step [60/79], Loss: 0.0000, Accuracy: 100.00%\n",
      "Time is 1502.9516062736511\n",
      "tensor(51)\n",
      "Epoch [40/40], Step [20/79], Loss: 0.0000, Accuracy: 100.00%\n",
      "Epoch [40/40], Step [40/79], Loss: 0.0000, Accuracy: 100.00%\n",
      "Epoch [40/40], Step [60/79], Loss: 0.0000, Accuracy: 100.00%\n",
      "Time is 1541.8201982975006\n"
     ]
    }
   ],
   "source": [
    "import time\n",
    "seconds1 = time.time()\n",
    "total_step = len(train_loader)\n",
    "loss_list = []\n",
    "acc_list = []\n",
    "num_epochs=40\n",
    "for epoch in range(num_epochs):\n",
    "    for i, (images, labels) in enumerate(train_loader):\n",
    "        if(i==0):\n",
    "            print(labels[i])\n",
    "        # Run the forward pass\n",
    "        outputs = model(images)\n",
    "        loss = criterion(outputs, labels)\n",
    "        loss_list.append(loss.item())\n",
    "\n",
    "        # Backprop and perform Adam optimisation\n",
    "        optimizer.zero_grad()\n",
    "        loss.backward()\n",
    "        optimizer.step()\n",
    "\n",
    "        # Track the accuracy\n",
    "        total = labels.size(0)\n",
    "        _, predicted = torch.max(outputs.data, 1)\n",
    "        correct = (predicted == labels).sum().item()\n",
    "        acc_list.append(correct / total)\n",
    "\n",
    "        if (i + 1) % 20 == 0:\n",
    "            print('Epoch [{}/{}], Step [{}/{}], Loss: {:.4f}, Accuracy: {:.2f}%'\n",
    "                  .format(epoch + 1, num_epochs, i + 1, total_step, loss.item(),\n",
    "                          (correct / total) * 100))\n",
    "    endt = time.time()\n",
    "    print(\"Time is \" + str(endt-seconds1))"
   ]
  },
  {
   "cell_type": "code",
   "execution_count": null,
   "metadata": {},
   "outputs": [],
   "source": []
  }
 ],
 "metadata": {
  "kernelspec": {
   "display_name": "Python 3",
   "language": "python",
   "name": "python3"
  },
  "language_info": {
   "codemirror_mode": {
    "name": "ipython",
    "version": 3
   },
   "file_extension": ".py",
   "mimetype": "text/x-python",
   "name": "python",
   "nbconvert_exporter": "python",
   "pygments_lexer": "ipython3",
   "version": "3.8.3"
  }
 },
 "nbformat": 4,
 "nbformat_minor": 4
}
